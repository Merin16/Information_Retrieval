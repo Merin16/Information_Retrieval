{
 "cells": [
  {
   "cell_type": "code",
   "execution_count": 1,
   "id": "41abd1fe",
   "metadata": {},
   "outputs": [],
   "source": [
    "#Implement a simple information retrieval model in Python that are capable of processing boolean queries."
   ]
  },
  {
   "cell_type": "code",
   "execution_count": 2,
   "id": "373015f8",
   "metadata": {},
   "outputs": [],
   "source": [
    "doc1= \"Today is a beautiful, and a sunny day to start my workout.\"\n",
    "doc2= \"I will not be able to come today to meet with him.\"\n",
    "doc3= \"Our class meeting starts soon!\"\n",
    "doc4= \"My class starts at 6.\""
   ]
  },
  {
   "cell_type": "markdown",
   "id": "1bdf3b53",
   "metadata": {},
   "source": [
    "# Importing the necessary libraries"
   ]
  },
  {
   "cell_type": "code",
   "execution_count": 3,
   "id": "0809ea79",
   "metadata": {},
   "outputs": [
    {
     "name": "stderr",
     "output_type": "stream",
     "text": [
      "[nltk_data] Downloading package wordnet to\n",
      "[nltk_data]     C:\\Users\\Merin\\AppData\\Roaming\\nltk_data...\n",
      "[nltk_data]   Package wordnet is already up-to-date!\n"
     ]
    },
    {
     "data": {
      "text/plain": [
       "True"
      ]
     },
     "execution_count": 3,
     "metadata": {},
     "output_type": "execute_result"
    }
   ],
   "source": [
    "import nltk\n",
    "nltk.download('wordnet')"
   ]
  },
  {
   "cell_type": "code",
   "execution_count": 4,
   "id": "716424e3",
   "metadata": {},
   "outputs": [],
   "source": [
    "import re\n",
    "import string"
   ]
  },
  {
   "cell_type": "markdown",
   "id": "e1928275",
   "metadata": {},
   "source": [
    "# Text data preprocessing "
   ]
  },
  {
   "cell_type": "code",
   "execution_count": 5,
   "id": "c20a1457",
   "metadata": {},
   "outputs": [],
   "source": [
    "from nltk.stem.wordnet import WordNetLemmatizer\n",
    "lem = WordNetLemmatizer()\n",
    "tokenizer = nltk.tokenize.TreebankWordTokenizer()"
   ]
  },
  {
   "cell_type": "code",
   "execution_count": 6,
   "id": "ce5d151e",
   "metadata": {},
   "outputs": [],
   "source": [
    "def clean_text(text):\n",
    "    text = text.lower()\n",
    "    text = re.sub('\\[.*?\\]', '', text)\n",
    "    text = re.sub('<.*?>+', '', text)\n",
    "    text = re.sub('[%s]' % re.escape(string.punctuation), '', text)\n",
    "    text = re.sub('\\n', '', text)\n",
    "    text = re.sub('\\w*\\d\\w*', '', text)\n",
    "    tokens = tokenizer.tokenize(text)\n",
    "    text=\" \".join(lem.lemmatize(token) for token in tokens)\n",
    "    return text"
   ]
  },
  {
   "cell_type": "code",
   "execution_count": 7,
   "id": "f403a617",
   "metadata": {},
   "outputs": [],
   "source": [
    "doc1=clean_text(doc1)\n",
    "doc2=clean_text(doc2)\n",
    "doc3=clean_text(doc3)\n",
    "doc4=clean_text(doc4)"
   ]
  },
  {
   "cell_type": "code",
   "execution_count": 8,
   "id": "487c0e3d",
   "metadata": {},
   "outputs": [
    {
     "data": {
      "text/plain": [
       "'today is a beautiful and a sunny day to start my workout'"
      ]
     },
     "execution_count": 8,
     "metadata": {},
     "output_type": "execute_result"
    }
   ],
   "source": [
    "doc1"
   ]
  },
  {
   "cell_type": "code",
   "execution_count": 9,
   "id": "93dbfc65",
   "metadata": {},
   "outputs": [
    {
     "name": "stdout",
     "output_type": "stream",
     "text": [
      "['today is a beautiful and a sunny day to start my workout', 'i will not be able to come today to meet with him', 'our class meeting start soon', 'my class start at']\n"
     ]
    }
   ],
   "source": [
    "Docs =[doc1,doc2,doc3,doc4]\n",
    "print(Docs)"
   ]
  },
  {
   "cell_type": "code",
   "execution_count": 10,
   "id": "4d44bafe",
   "metadata": {},
   "outputs": [],
   "source": [
    "tokens = []\n",
    "for word in doc1.lower().split():\n",
    "    if word not in tokens:\n",
    "        tokens.append(word)\n",
    "for word in doc2.lower().split():\n",
    "    if word not in tokens:\n",
    "        tokens.append(word)\n",
    "for word in doc3.lower().split():\n",
    "    if word not in tokens:\n",
    "        tokens.append(word)\n",
    "for word in doc4.lower().split():\n",
    "    if word not in tokens:\n",
    "        tokens.append(word)   "
   ]
  },
  {
   "cell_type": "code",
   "execution_count": 11,
   "id": "cfd65e1f",
   "metadata": {},
   "outputs": [
    {
     "data": {
      "text/plain": [
       "['today',\n",
       " 'is',\n",
       " 'a',\n",
       " 'beautiful',\n",
       " 'and',\n",
       " 'sunny',\n",
       " 'day',\n",
       " 'to',\n",
       " 'start',\n",
       " 'my',\n",
       " 'workout',\n",
       " 'i',\n",
       " 'will',\n",
       " 'not',\n",
       " 'be',\n",
       " 'able',\n",
       " 'come',\n",
       " 'meet',\n",
       " 'with',\n",
       " 'him',\n",
       " 'our',\n",
       " 'class',\n",
       " 'meeting',\n",
       " 'soon',\n",
       " 'at']"
      ]
     },
     "execution_count": 11,
     "metadata": {},
     "output_type": "execute_result"
    }
   ],
   "source": [
    "tokens"
   ]
  },
  {
   "cell_type": "code",
   "execution_count": 12,
   "id": "98c831aa",
   "metadata": {},
   "outputs": [
    {
     "data": {
      "text/plain": [
       "25"
      ]
     },
     "execution_count": 12,
     "metadata": {},
     "output_type": "execute_result"
    }
   ],
   "source": [
    "len(tokens)"
   ]
  },
  {
   "cell_type": "code",
   "execution_count": 13,
   "id": "31de70fe",
   "metadata": {},
   "outputs": [],
   "source": [
    "vector_1 = []\n",
    "for token in tokens:\n",
    "    if token in doc1.lower().split():\n",
    "        vector_1.append(1)\n",
    "    else:\n",
    "        vector_1.append(0)\n",
    "vector_2 = []\n",
    "for token in tokens:\n",
    "    if token in doc2.lower().split():\n",
    "        vector_2.append(1)\n",
    "    else:\n",
    "        vector_2.append(0)\n",
    "vector_3 = []\n",
    "for token in tokens:\n",
    "    if token in doc3.lower().split():\n",
    "        vector_3.append(1)\n",
    "    else:\n",
    "        vector_3.append(0)\n",
    "vector_4 = []\n",
    "for token in tokens:\n",
    "    if token in doc4.lower().split():\n",
    "        vector_4.append(1)\n",
    "    else:\n",
    "        vector_4.append(0)"
   ]
  },
  {
   "cell_type": "code",
   "execution_count": 14,
   "id": "5f3acf47",
   "metadata": {},
   "outputs": [
    {
     "name": "stdout",
     "output_type": "stream",
     "text": [
      "[1, 1, 1, 1, 1, 1, 1, 1, 1, 1, 1, 0, 0, 0, 0, 0, 0, 0, 0, 0, 0, 0, 0, 0, 0]\n",
      "[1, 0, 0, 0, 0, 0, 0, 1, 0, 0, 0, 1, 1, 1, 1, 1, 1, 1, 1, 1, 0, 0, 0, 0, 0]\n",
      "[0, 0, 0, 0, 0, 0, 0, 0, 1, 0, 0, 0, 0, 0, 0, 0, 0, 0, 0, 0, 1, 1, 1, 1, 0]\n",
      "[0, 0, 0, 0, 0, 0, 0, 0, 1, 1, 0, 0, 0, 0, 0, 0, 0, 0, 0, 0, 0, 1, 0, 0, 1]\n"
     ]
    }
   ],
   "source": [
    "print(vector_1)\n",
    "print(vector_2)\n",
    "print(vector_3)\n",
    "print(vector_4)"
   ]
  },
  {
   "cell_type": "code",
   "execution_count": 15,
   "id": "1b4142d7",
   "metadata": {},
   "outputs": [],
   "source": [
    "import pandas as pd\n",
    "df = pd.DataFrame(columns=['words','doc1', 'doc2','doc3','doc4'])"
   ]
  },
  {
   "cell_type": "code",
   "execution_count": 16,
   "id": "260eda3e",
   "metadata": {},
   "outputs": [],
   "source": [
    "df['words'] = tokens\n",
    "df['doc1'] = vector_1\n",
    "df['doc2'] = vector_2\n",
    "df['doc3'] = vector_3\n",
    "df['doc4'] = vector_4"
   ]
  },
  {
   "cell_type": "markdown",
   "id": "82ed99bf",
   "metadata": {},
   "source": [
    "# Term-Document Incidence Matrix"
   ]
  },
  {
   "cell_type": "code",
   "execution_count": 17,
   "id": "7585e717",
   "metadata": {},
   "outputs": [
    {
     "data": {
      "text/html": [
       "<div>\n",
       "<style scoped>\n",
       "    .dataframe tbody tr th:only-of-type {\n",
       "        vertical-align: middle;\n",
       "    }\n",
       "\n",
       "    .dataframe tbody tr th {\n",
       "        vertical-align: top;\n",
       "    }\n",
       "\n",
       "    .dataframe thead th {\n",
       "        text-align: right;\n",
       "    }\n",
       "</style>\n",
       "<table border=\"1\" class=\"dataframe\">\n",
       "  <thead>\n",
       "    <tr style=\"text-align: right;\">\n",
       "      <th></th>\n",
       "      <th>words</th>\n",
       "      <th>doc1</th>\n",
       "      <th>doc2</th>\n",
       "      <th>doc3</th>\n",
       "      <th>doc4</th>\n",
       "    </tr>\n",
       "  </thead>\n",
       "  <tbody>\n",
       "    <tr>\n",
       "      <th>0</th>\n",
       "      <td>today</td>\n",
       "      <td>1</td>\n",
       "      <td>1</td>\n",
       "      <td>0</td>\n",
       "      <td>0</td>\n",
       "    </tr>\n",
       "    <tr>\n",
       "      <th>1</th>\n",
       "      <td>is</td>\n",
       "      <td>1</td>\n",
       "      <td>0</td>\n",
       "      <td>0</td>\n",
       "      <td>0</td>\n",
       "    </tr>\n",
       "    <tr>\n",
       "      <th>2</th>\n",
       "      <td>a</td>\n",
       "      <td>1</td>\n",
       "      <td>0</td>\n",
       "      <td>0</td>\n",
       "      <td>0</td>\n",
       "    </tr>\n",
       "    <tr>\n",
       "      <th>3</th>\n",
       "      <td>beautiful</td>\n",
       "      <td>1</td>\n",
       "      <td>0</td>\n",
       "      <td>0</td>\n",
       "      <td>0</td>\n",
       "    </tr>\n",
       "    <tr>\n",
       "      <th>4</th>\n",
       "      <td>and</td>\n",
       "      <td>1</td>\n",
       "      <td>0</td>\n",
       "      <td>0</td>\n",
       "      <td>0</td>\n",
       "    </tr>\n",
       "    <tr>\n",
       "      <th>5</th>\n",
       "      <td>sunny</td>\n",
       "      <td>1</td>\n",
       "      <td>0</td>\n",
       "      <td>0</td>\n",
       "      <td>0</td>\n",
       "    </tr>\n",
       "    <tr>\n",
       "      <th>6</th>\n",
       "      <td>day</td>\n",
       "      <td>1</td>\n",
       "      <td>0</td>\n",
       "      <td>0</td>\n",
       "      <td>0</td>\n",
       "    </tr>\n",
       "    <tr>\n",
       "      <th>7</th>\n",
       "      <td>to</td>\n",
       "      <td>1</td>\n",
       "      <td>1</td>\n",
       "      <td>0</td>\n",
       "      <td>0</td>\n",
       "    </tr>\n",
       "    <tr>\n",
       "      <th>8</th>\n",
       "      <td>start</td>\n",
       "      <td>1</td>\n",
       "      <td>0</td>\n",
       "      <td>1</td>\n",
       "      <td>1</td>\n",
       "    </tr>\n",
       "    <tr>\n",
       "      <th>9</th>\n",
       "      <td>my</td>\n",
       "      <td>1</td>\n",
       "      <td>0</td>\n",
       "      <td>0</td>\n",
       "      <td>1</td>\n",
       "    </tr>\n",
       "    <tr>\n",
       "      <th>10</th>\n",
       "      <td>workout</td>\n",
       "      <td>1</td>\n",
       "      <td>0</td>\n",
       "      <td>0</td>\n",
       "      <td>0</td>\n",
       "    </tr>\n",
       "    <tr>\n",
       "      <th>11</th>\n",
       "      <td>i</td>\n",
       "      <td>0</td>\n",
       "      <td>1</td>\n",
       "      <td>0</td>\n",
       "      <td>0</td>\n",
       "    </tr>\n",
       "    <tr>\n",
       "      <th>12</th>\n",
       "      <td>will</td>\n",
       "      <td>0</td>\n",
       "      <td>1</td>\n",
       "      <td>0</td>\n",
       "      <td>0</td>\n",
       "    </tr>\n",
       "    <tr>\n",
       "      <th>13</th>\n",
       "      <td>not</td>\n",
       "      <td>0</td>\n",
       "      <td>1</td>\n",
       "      <td>0</td>\n",
       "      <td>0</td>\n",
       "    </tr>\n",
       "    <tr>\n",
       "      <th>14</th>\n",
       "      <td>be</td>\n",
       "      <td>0</td>\n",
       "      <td>1</td>\n",
       "      <td>0</td>\n",
       "      <td>0</td>\n",
       "    </tr>\n",
       "    <tr>\n",
       "      <th>15</th>\n",
       "      <td>able</td>\n",
       "      <td>0</td>\n",
       "      <td>1</td>\n",
       "      <td>0</td>\n",
       "      <td>0</td>\n",
       "    </tr>\n",
       "    <tr>\n",
       "      <th>16</th>\n",
       "      <td>come</td>\n",
       "      <td>0</td>\n",
       "      <td>1</td>\n",
       "      <td>0</td>\n",
       "      <td>0</td>\n",
       "    </tr>\n",
       "    <tr>\n",
       "      <th>17</th>\n",
       "      <td>meet</td>\n",
       "      <td>0</td>\n",
       "      <td>1</td>\n",
       "      <td>0</td>\n",
       "      <td>0</td>\n",
       "    </tr>\n",
       "    <tr>\n",
       "      <th>18</th>\n",
       "      <td>with</td>\n",
       "      <td>0</td>\n",
       "      <td>1</td>\n",
       "      <td>0</td>\n",
       "      <td>0</td>\n",
       "    </tr>\n",
       "    <tr>\n",
       "      <th>19</th>\n",
       "      <td>him</td>\n",
       "      <td>0</td>\n",
       "      <td>1</td>\n",
       "      <td>0</td>\n",
       "      <td>0</td>\n",
       "    </tr>\n",
       "    <tr>\n",
       "      <th>20</th>\n",
       "      <td>our</td>\n",
       "      <td>0</td>\n",
       "      <td>0</td>\n",
       "      <td>1</td>\n",
       "      <td>0</td>\n",
       "    </tr>\n",
       "    <tr>\n",
       "      <th>21</th>\n",
       "      <td>class</td>\n",
       "      <td>0</td>\n",
       "      <td>0</td>\n",
       "      <td>1</td>\n",
       "      <td>1</td>\n",
       "    </tr>\n",
       "    <tr>\n",
       "      <th>22</th>\n",
       "      <td>meeting</td>\n",
       "      <td>0</td>\n",
       "      <td>0</td>\n",
       "      <td>1</td>\n",
       "      <td>0</td>\n",
       "    </tr>\n",
       "    <tr>\n",
       "      <th>23</th>\n",
       "      <td>soon</td>\n",
       "      <td>0</td>\n",
       "      <td>0</td>\n",
       "      <td>1</td>\n",
       "      <td>0</td>\n",
       "    </tr>\n",
       "    <tr>\n",
       "      <th>24</th>\n",
       "      <td>at</td>\n",
       "      <td>0</td>\n",
       "      <td>0</td>\n",
       "      <td>0</td>\n",
       "      <td>1</td>\n",
       "    </tr>\n",
       "  </tbody>\n",
       "</table>\n",
       "</div>"
      ],
      "text/plain": [
       "        words  doc1  doc2  doc3  doc4\n",
       "0       today     1     1     0     0\n",
       "1          is     1     0     0     0\n",
       "2           a     1     0     0     0\n",
       "3   beautiful     1     0     0     0\n",
       "4         and     1     0     0     0\n",
       "5       sunny     1     0     0     0\n",
       "6         day     1     0     0     0\n",
       "7          to     1     1     0     0\n",
       "8       start     1     0     1     1\n",
       "9          my     1     0     0     1\n",
       "10    workout     1     0     0     0\n",
       "11          i     0     1     0     0\n",
       "12       will     0     1     0     0\n",
       "13        not     0     1     0     0\n",
       "14         be     0     1     0     0\n",
       "15       able     0     1     0     0\n",
       "16       come     0     1     0     0\n",
       "17       meet     0     1     0     0\n",
       "18       with     0     1     0     0\n",
       "19        him     0     1     0     0\n",
       "20        our     0     0     1     0\n",
       "21      class     0     0     1     1\n",
       "22    meeting     0     0     1     0\n",
       "23       soon     0     0     1     0\n",
       "24         at     0     0     0     1"
      ]
     },
     "execution_count": 17,
     "metadata": {},
     "output_type": "execute_result"
    }
   ],
   "source": [
    "df"
   ]
  },
  {
   "cell_type": "markdown",
   "id": "f34a3223",
   "metadata": {},
   "source": [
    "# GET THE VECTORS"
   ]
  },
  {
   "cell_type": "code",
   "execution_count": 18,
   "id": "499b0f9f",
   "metadata": {},
   "outputs": [],
   "source": [
    "doc_term_matrix = {}\n",
    "for term in tokens:\n",
    "    doc_term_matrix[term] = []  \n",
    "    for doc in Docs:\n",
    "        if term in doc:\n",
    "            doc_term_matrix[term].append(1)\n",
    "        else: \n",
    "            doc_term_matrix[term].append(0)"
   ]
  },
  {
   "cell_type": "code",
   "execution_count": 19,
   "id": "0d07d8e4",
   "metadata": {},
   "outputs": [
    {
     "data": {
      "text/plain": [
       "{'today': [1, 1, 0, 0],\n",
       " 'is': [1, 0, 0, 0],\n",
       " 'a': [1, 1, 1, 1],\n",
       " 'beautiful': [1, 0, 0, 0],\n",
       " 'and': [1, 0, 0, 0],\n",
       " 'sunny': [1, 0, 0, 0],\n",
       " 'day': [1, 1, 0, 0],\n",
       " 'to': [1, 1, 0, 0],\n",
       " 'start': [1, 0, 1, 1],\n",
       " 'my': [1, 0, 0, 1],\n",
       " 'workout': [1, 0, 0, 0],\n",
       " 'i': [1, 1, 1, 0],\n",
       " 'will': [0, 1, 0, 0],\n",
       " 'not': [0, 1, 0, 0],\n",
       " 'be': [1, 1, 0, 0],\n",
       " 'able': [0, 1, 0, 0],\n",
       " 'come': [0, 1, 0, 0],\n",
       " 'meet': [0, 1, 1, 0],\n",
       " 'with': [0, 1, 0, 0],\n",
       " 'him': [0, 1, 0, 0],\n",
       " 'our': [0, 0, 1, 0],\n",
       " 'class': [0, 0, 1, 1],\n",
       " 'meeting': [0, 0, 1, 0],\n",
       " 'soon': [0, 0, 1, 0],\n",
       " 'at': [0, 0, 0, 1]}"
      ]
     },
     "execution_count": 19,
     "metadata": {},
     "output_type": "execute_result"
    }
   ],
   "source": [
    "doc_term_matrix"
   ]
  },
  {
   "cell_type": "code",
   "execution_count": 20,
   "id": "44e6fd94",
   "metadata": {},
   "outputs": [
    {
     "data": {
      "text/plain": [
       "[1, 0, 1, 1]"
      ]
     },
     "execution_count": 20,
     "metadata": {},
     "output_type": "execute_result"
    }
   ],
   "source": [
    "doc_term_matrix['start']"
   ]
  },
  {
   "cell_type": "markdown",
   "id": "00a87a9d",
   "metadata": {},
   "source": [
    "# Boolean operations"
   ]
  },
  {
   "cell_type": "markdown",
   "id": "2abd52b5",
   "metadata": {},
   "source": [
    "# \"AND\" ,\"OR\" and \"AND NOT\" operation"
   ]
  },
  {
   "cell_type": "code",
   "execution_count": 72,
   "id": "8ec0401d",
   "metadata": {},
   "outputs": [
    {
     "data": {
      "text/plain": [
       "array(['today is a beautiful and a sunny day to start my workout',\n",
       "       'i will not be able to come today to meet with him',\n",
       "       'our class meeting start soon', 'my class start at'], dtype=object)"
      ]
     },
     "execution_count": 72,
     "metadata": {},
     "output_type": "execute_result"
    }
   ],
   "source": [
    "docs_array = np.array(Docs, dtype='object')\n",
    "docs_array"
   ]
  },
  {
   "cell_type": "code",
   "execution_count": 89,
   "id": "eb72d8e8",
   "metadata": {},
   "outputs": [
    {
     "name": "stdout",
     "output_type": "stream",
     "text": [
      "Enter the phrase:class or meeting\n",
      "class : [0 0 1 1]\n",
      "operator is ' or '\n",
      "meeting : [0 0 1 0]\n",
      "[0 0 1 1] or [0 0 1 0]\n",
      "[0 0 1 1]\n"
     ]
    }
   ],
   "source": [
    "phrase=input(\"Enter the phrase:\")\n",
    "split=phrase.split()\n",
    "a=split[0]\n",
    "b=split[1]\n",
    "c=split[2]\n",
    "v1 = np.array(doc_term_matrix[a])    \n",
    "v2 = np.array(doc_term_matrix[c])\n",
    "if (split[1]=='and' and split[2]=='not'):\n",
    "    d=split[3]\n",
    "    v2 = np.array(doc_term_matrix[d])\n",
    "    print(a,\":\",v1)\n",
    "    print(\"operator is '\",b,c,\"'\")\n",
    "    print(d,\":\",v2)\n",
    "    print(v1,\"and not\",v2)\n",
    "    v=v1 &~v2\n",
    "    print(v)\n",
    "elif split[1]=='or':\n",
    "    print(a,\":\",v1)\n",
    "    print(\"operator is '\",b,\"'\")\n",
    "    print(c,\":\",v2)\n",
    "    print(v1,\"or\",v2)\n",
    "    v=v1 | v2\n",
    "    print(v)\n",
    "else:\n",
    "    print(a,\":\",v1)\n",
    "    print(\"operator is '\",b,\"'\")\n",
    "    print(c,\":\",v2)\n",
    "    print(v1,\"and\",v2)\n",
    "    v=v1&v2\n",
    "    print(v)"
   ]
  },
  {
   "cell_type": "code",
   "execution_count": null,
   "id": "1aad53fd",
   "metadata": {},
   "outputs": [],
   "source": []
  },
  {
   "cell_type": "code",
   "execution_count": null,
   "id": "0deac02a",
   "metadata": {},
   "outputs": [],
   "source": []
  },
  {
   "cell_type": "code",
   "execution_count": null,
   "id": "a5c2fe0e",
   "metadata": {},
   "outputs": [],
   "source": []
  }
 ],
 "metadata": {
  "kernelspec": {
   "display_name": "Python 3",
   "language": "python",
   "name": "python3"
  },
  "language_info": {
   "codemirror_mode": {
    "name": "ipython",
    "version": 3
   },
   "file_extension": ".py",
   "mimetype": "text/x-python",
   "name": "python",
   "nbconvert_exporter": "python",
   "pygments_lexer": "ipython3",
   "version": "3.8.8"
  }
 },
 "nbformat": 4,
 "nbformat_minor": 5
}
