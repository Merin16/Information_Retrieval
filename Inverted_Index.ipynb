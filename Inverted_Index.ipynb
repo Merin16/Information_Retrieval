{
 "cells": [
  {
   "cell_type": "markdown",
   "id": "acb19646",
   "metadata": {},
   "source": [
    "# Creating inverted index"
   ]
  },
  {
   "cell_type": "code",
   "execution_count": 1,
   "id": "5c6d395a",
   "metadata": {},
   "outputs": [],
   "source": [
    "#Create an inverted index using Python and execute boolean queries"
   ]
  },
  {
   "cell_type": "code",
   "execution_count": 2,
   "id": "d210c625",
   "metadata": {},
   "outputs": [],
   "source": [
    "doc1= \"Today is a beautiful, and a sunny day to start my workout.\"\n",
    "doc2= \"I will not be able to come today to meet with him.\"\n",
    "doc3= \"Our class meeting starts soon!\"\n",
    "doc4= \"My class starts at 6.\""
   ]
  },
  {
   "cell_type": "code",
   "execution_count": 3,
   "id": "d42a7a3a",
   "metadata": {},
   "outputs": [
    {
     "name": "stderr",
     "output_type": "stream",
     "text": [
      "[nltk_data] Downloading package wordnet to\n",
      "[nltk_data]     C:\\Users\\Merin\\AppData\\Roaming\\nltk_data...\n",
      "[nltk_data]   Package wordnet is already up-to-date!\n"
     ]
    }
   ],
   "source": [
    "import nltk\n",
    "nltk.download('wordnet')\n",
    "import re\n",
    "import string\n",
    "from nltk.stem.wordnet import WordNetLemmatizer\n",
    "lem = WordNetLemmatizer()\n",
    "tokenizer = nltk.tokenize.TreebankWordTokenizer()"
   ]
  },
  {
   "cell_type": "code",
   "execution_count": 4,
   "id": "4d80e7c9",
   "metadata": {},
   "outputs": [],
   "source": [
    "def clean_text(text):\n",
    "    text = text.lower()\n",
    "    text = re.sub('\\[.*?\\]', '', text)\n",
    "    text = re.sub('<.*?>+', '', text)\n",
    "    text = re.sub('[%s]' % re.escape(string.punctuation), '', text)\n",
    "    text = re.sub('\\n', '', text)\n",
    "    text = re.sub('\\w*\\d\\w*', '', text)\n",
    "    tokens = tokenizer.tokenize(text)\n",
    "    text=\" \".join(lem.lemmatize(token) for token in tokens)\n",
    "    return text"
   ]
  },
  {
   "cell_type": "code",
   "execution_count": 5,
   "id": "86aa66d7",
   "metadata": {},
   "outputs": [],
   "source": [
    "doc1=clean_text(doc1)\n",
    "doc2=clean_text(doc2)\n",
    "doc3=clean_text(doc3)\n",
    "doc4=clean_text(doc4)"
   ]
  },
  {
   "cell_type": "code",
   "execution_count": 6,
   "id": "70e99ae1",
   "metadata": {},
   "outputs": [
    {
     "name": "stdout",
     "output_type": "stream",
     "text": [
      "['today is a beautiful and a sunny day to start my workout', 'i will not be able to come today to meet with him', 'our class meeting start soon', 'my class start at']\n"
     ]
    }
   ],
   "source": [
    "Docs =[doc1,doc2,doc3,doc4]\n",
    "print(Docs)"
   ]
  },
  {
   "cell_type": "code",
   "execution_count": 7,
   "id": "7c1af76f",
   "metadata": {},
   "outputs": [],
   "source": [
    "tokens = []\n",
    "for word in doc1.lower().split():\n",
    "    if word not in tokens:\n",
    "        tokens.append(word)\n",
    "for word in doc2.lower().split():\n",
    "    if word not in tokens:\n",
    "        tokens.append(word)\n",
    "for word in doc3.lower().split():\n",
    "    if word not in tokens:\n",
    "        tokens.append(word)\n",
    "for word in doc4.lower().split():\n",
    "    if word not in tokens:\n",
    "        tokens.append(word)   "
   ]
  },
  {
   "cell_type": "code",
   "execution_count": 8,
   "id": "e3c61059",
   "metadata": {},
   "outputs": [],
   "source": [
    "inverted_index = {}"
   ]
  },
  {
   "cell_type": "code",
   "execution_count": 9,
   "id": "d472e2f3",
   "metadata": {},
   "outputs": [
    {
     "data": {
      "text/plain": [
       "[(1, 'today is a beautiful and a sunny day to start my workout'),\n",
       " (2, 'i will not be able to come today to meet with him'),\n",
       " (3, 'our class meeting start soon'),\n",
       " (4, 'my class start at')]"
      ]
     },
     "execution_count": 9,
     "metadata": {},
     "output_type": "execute_result"
    }
   ],
   "source": [
    "list(enumerate(Docs,1))"
   ]
  },
  {
   "cell_type": "code",
   "execution_count": 10,
   "id": "2907f22c",
   "metadata": {},
   "outputs": [],
   "source": [
    "for i, a in enumerate(Docs,1):\n",
    "    for term in a.split():\n",
    "        if term in inverted_index:\n",
    "            inverted_index[term].add(i)\n",
    "        else:\n",
    "            inverted_index[term] = {i}"
   ]
  },
  {
   "cell_type": "code",
   "execution_count": 11,
   "id": "ec55f3df",
   "metadata": {},
   "outputs": [
    {
     "data": {
      "text/plain": [
       "{'today': {1, 2},\n",
       " 'is': {1},\n",
       " 'a': {1},\n",
       " 'beautiful': {1},\n",
       " 'and': {1},\n",
       " 'sunny': {1},\n",
       " 'day': {1},\n",
       " 'to': {1, 2},\n",
       " 'start': {1, 3, 4},\n",
       " 'my': {1, 4},\n",
       " 'workout': {1},\n",
       " 'i': {2},\n",
       " 'will': {2},\n",
       " 'not': {2},\n",
       " 'be': {2},\n",
       " 'able': {2},\n",
       " 'come': {2},\n",
       " 'meet': {2},\n",
       " 'with': {2},\n",
       " 'him': {2},\n",
       " 'our': {3},\n",
       " 'class': {3, 4},\n",
       " 'meeting': {3},\n",
       " 'soon': {3},\n",
       " 'at': {4}}"
      ]
     },
     "execution_count": 11,
     "metadata": {},
     "output_type": "execute_result"
    }
   ],
   "source": [
    "inverted_index"
   ]
  },
  {
   "cell_type": "code",
   "execution_count": 12,
   "id": "759eedd9",
   "metadata": {},
   "outputs": [
    {
     "name": "stdout",
     "output_type": "stream",
     "text": [
      "Enter the word: class\n",
      "{3, 4}\n"
     ]
    }
   ],
   "source": [
    "term=input(\"Enter the word: \")\n",
    "posting_list = inverted_index[term]\n",
    "print(posting_list)"
   ]
  },
  {
   "cell_type": "code",
   "execution_count": null,
   "id": "9548bc41",
   "metadata": {},
   "outputs": [],
   "source": []
  }
 ],
 "metadata": {
  "kernelspec": {
   "display_name": "Python 3",
   "language": "python",
   "name": "python3"
  },
  "language_info": {
   "codemirror_mode": {
    "name": "ipython",
    "version": 3
   },
   "file_extension": ".py",
   "mimetype": "text/x-python",
   "name": "python",
   "nbconvert_exporter": "python",
   "pygments_lexer": "ipython3",
   "version": "3.8.8"
  }
 },
 "nbformat": 4,
 "nbformat_minor": 5
}
